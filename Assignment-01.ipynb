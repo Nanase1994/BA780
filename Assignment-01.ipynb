{
 "cells": [
  {
   "cell_type": "markdown",
   "metadata": {
    "id": "wWqKAC5o9b2W"
   },
   "source": [
    "# Assignment 1\n",
    "\n",
    "This assignment is to test your understanding of Python basics.\n",
    "\n",
    "You won't need to upload/email your notebook, but you will need to submit your code and answers on Blackboard.\n",
    "\n",
    "When applicable, only use the specific method requested.\n",
    "\n",
    "**Note:** spend some time reviewing the basics of python notebooks under the folder 00-Python-Basics in the course repo or A Whirlwind Tour of Python.\n",
    "\n",
    "**Generative AI rule:** For this assignment, you are allowed to use generative AI tools for assistance, but the code must be your original work—any code that is not your own will be considered cheating."
   ]
  },
  {
   "cell_type": "markdown",
   "metadata": {
    "id": "-WvDcI8r9e8N"
   },
   "source": [
    "# Question 1\n",
    "**Projected Revenue Growth Analysis**\n",
    "\n",
    "You are an analyst at a consulting firm tasked with projecting the 9-year compounded revenue growth for a tech company client. The company has experienced steady growth in recent years, but as a tech firm, it also faces significant market volatility. Your goal is to calculate the 9-year projected growth, adjust it based on market volatility, and assess the growth potential.\n",
    "\n",
    "Calculate the 9-Year Projected Growth: The company's annual growth rate is 12%. To estimate the compounded revenue growth over 9 years, calculate\n",
    "$(1 + 0.12)^9$ and multiply by an initial revenue value of 1 (for simplicity, we assume the initial value is normalized to 1).\n",
    "\n",
    "Adjust for Market Volatility: Market volatility can impact growth predictions. To adjust for this, multiply the projected growth by a volatility index factor. Assume a Volatility Index (VIX) factor of 1.25, meaning the projection could be increased by 25% due to market optimism or risk. Multiply the projected growth by 1.25 and round the result to two decimal places.\n",
    "\n",
    "Classify the Growth Potential based on the adjusted result:\n",
    "\n",
    "If the adjusted projected growth is greater than 3, categorize it as **'High Growth Potential'**.\n",
    "If the adjusted projected growth is between 1.5 and 3, categorize it as **'Moderate Growth Potential'**.\n",
    "If the adjusted projected growth is less than 1.5, categorize it as **'Low Growth Potential'**.\n",
    "\n",
    "Provide the final adjusted growth figure and the categorized growth potential. Make sure to use variables and assign values to them to get full credit."
   ]
  },
  {
   "cell_type": "code",
   "execution_count": 4,
   "metadata": {
    "executionInfo": {
     "elapsed": 641,
     "status": "ok",
     "timestamp": 1725507366076,
     "user": {
      "displayName": "Mohammad Soltanieh Ha",
      "userId": "12308918870841825745"
     },
     "user_tz": 240
    },
    "id": "XzisjM4h9b2Z"
   },
   "outputs": [
    {
     "name": "stdout",
     "output_type": "stream",
     "text": [
      "Adjusted 9-Year Growth: 3.47\n",
      "Growth Potential Category: High Growth Potential\n"
     ]
    }
   ],
   "source": [
    "annual_growth_rate = 0.12\n",
    "years = 9\n",
    "initial_revenue = 1\n",
    "volatility_factor = 1.25\n",
    "\n",
    "projected_growth = (1+annual_growth_rate)**years*initial_revenue\n",
    "adjusted_growth = round((projected_growth * volatility_factor), 2)\n",
    "\n",
    "if adjusted_growth > 3:\n",
    "    growth_category = \"High Growth Potential\"\n",
    "elif 1.5 <= adjusted_growth <= 3:\n",
    "    growth_category = \"Moderate Growth Potential\"\n",
    "else:\n",
    "    growth_category = \"Low Growth Potential\"\n",
    "\n",
    "print(\"Adjusted 9-Year Growth:\", adjusted_growth)\n",
    "print(\"Growth Potential Category:\", growth_category)"
   ]
  },
  {
   "cell_type": "markdown",
   "metadata": {
    "id": "iw1F3q3M9b2d"
   },
   "source": [
    "# Question 2\n",
    "\n",
    "** Inventory Optimization for a Retail Company**\n",
    "\n",
    "You are a supply chain analyst at a retail company responsible for optimizing the packing process for a new shipment of products. The company has received a bulk order of 45,000 units of a popular product that needs to be packed into standard-sized boxes for shipping to various distribution centers. Each standard box has a capacity of 74 units.\n",
    "\n",
    "Calculate the Number of Full Boxes: Determine how many full boxes can be packed using the available 45,000 units. This will help the company plan for transportation and storage space.\n",
    "\n",
    "Calculate the Remaining Inventory: Calculate how many units will remain unpacked after filling as many full boxes as possible. This leftover inventory needs special handling or alternative packaging solutions."
   ]
  },
  {
   "cell_type": "code",
   "execution_count": 5,
   "metadata": {
    "executionInfo": {
     "elapsed": 2,
     "status": "ok",
     "timestamp": 1725507366076,
     "user": {
      "displayName": "Mohammad Soltanieh Ha",
      "userId": "12308918870841825745"
     },
     "user_tz": 240
    },
    "id": "-8V2Prt_9b2e"
   },
   "outputs": [
    {
     "name": "stdout",
     "output_type": "stream",
     "text": [
      "Number of Full Boxes: 608\n",
      "Remaining Inventory: 8\n"
     ]
    }
   ],
   "source": [
    "total_units = 45000\n",
    "box_capacity = 74\n",
    "full_box = total_units//box_capacity\n",
    "remaining_value = total_units%box_capacity\n",
    "print(\"Number of Full Boxes:\", full_box)\n",
    "print(\"Remaining Inventory:\", remaining_value)"
   ]
  },
  {
   "cell_type": "markdown",
   "metadata": {
    "id": "uhIcHdCv9b2h"
   },
   "source": [
    "# Question 3\n",
    "\n",
    "You are a data analyst working for an e-commerce company. The company wants to understand customer purchasing behavior by analyzing a list of recent transactions. Each number in the list represents the number of items purchased by different customers in a single transaction. The list is sorted chronologically from the earliest to the latest transaction.\n",
    "\n",
    "Given the transaction data below, perform the following operations:"
   ]
  },
  {
   "cell_type": "code",
   "execution_count": 12,
   "metadata": {
    "id": "VdD954nSFOrK"
   },
   "outputs": [],
   "source": [
    "transactions = [2, 5, 1, 7, 3, 1, 8, 6, 1, 4, 9, 2, 5, 1, 1, 7, 3, 1, 6, 10]"
   ]
  },
  {
   "cell_type": "markdown",
   "metadata": {
    "id": "F4-d-BFXFWK5"
   },
   "source": [
    "1. **Identify Early Customer Behavior:** Extract the first 5 transactions to analyze the purchasing behavior of the earliest customers.\n",
    "\n",
    "2. **Identify Recent Customer Behavior:** Extract the last 5 transactions to analyze the purchasing behavior of the most recent customers.\n",
    "\n",
    "3. **Reverse Transaction History:** Reverse the entire list to see the transactions in descending chronological order (from the most recent to the earliest)."
   ]
  },
  {
   "cell_type": "code",
   "execution_count": 13,
   "metadata": {
    "executionInfo": {
     "elapsed": 2,
     "status": "ok",
     "timestamp": 1725507366076,
     "user": {
      "displayName": "Mohammad Soltanieh Ha",
      "userId": "12308918870841825745"
     },
     "user_tz": 240
    },
    "id": "Oaje5oiQ9b2k"
   },
   "outputs": [
    {
     "name": "stdout",
     "output_type": "stream",
     "text": [
      "Early transactions: [2, 5, 1, 7, 3]\n",
      "Recent transactions: [7, 3, 1, 6, 10]\n",
      "Transaction history: [10, 6, 1, 3, 7, 1, 1, 5, 2, 9, 4, 1, 6, 8, 1, 3, 7, 1, 5, 2]\n"
     ]
    }
   ],
   "source": [
    "transactions = [2, 5, 1, 7, 3, 1, 8, 6, 1, 4, 9, 2, 5, 1, 1, 7, 3, 1, 6, 10]\n",
    "transactions\n",
    "\n",
    "early_transactions = transactions[:5]\n",
    "print(\"Early transactions:\", early_transactions)\n",
    "\n",
    "recent_transactions = transactions[-5:]\n",
    "print(\"Recent transactions:\", recent_transactions)\n",
    "\n",
    "transactions_history = transactions[::-1]\n",
    "print(\"Transaction history:\", transactions_history)"
   ]
  },
  {
   "cell_type": "markdown",
   "metadata": {
    "id": "2c3a5121"
   },
   "source": [
    "# Question 4\n",
    "\n",
    "**Marketing Campaign Text Analysis**\n",
    "\n",
    "You are a digital marketing analyst working on refining the text for an upcoming promotional campaign. Your team wants to make the text more eye-catching and analyze certain characteristics of the text.\n",
    "\n",
    "Given the promotional text below, perform the following operations:"
   ]
  },
  {
   "cell_type": "code",
   "execution_count": null,
   "metadata": {
    "id": "b2HSWyieGK3G"
   },
   "outputs": [],
   "source": [
    "promo_text = 'a whirlwind tour of python'"
   ]
  },
  {
   "cell_type": "markdown",
   "metadata": {
    "id": "GQy9vnfsGLR5"
   },
   "source": [
    "1. **Convert the Text to Uppercase:** Convert the entire string to uppercase to ensure consistency in the promotional material.\n",
    "\n",
    "2. **Count Key Letters:** Count the total number of occurrences of the letter 'o' in the text. The frequency of specific letters can be used to analyze the readability and tone of the message.\n",
    "\n",
    "3. **Analyze Text Content:** Find the position of the first occurrence of the letter 'p' to determine where important keywords might start appearing in the text.\n",
    "\n",
    "Provide the code, and output text for each step."
   ]
  },
  {
   "cell_type": "code",
   "execution_count": null,
   "metadata": {
    "executionInfo": {
     "elapsed": 2,
     "status": "ok",
     "timestamp": 1725507366076,
     "user": {
      "displayName": "Mohammad Soltanieh Ha",
      "userId": "12308918870841825745"
     },
     "user_tz": 240
    },
    "id": "3ab38431"
   },
   "outputs": [
    {
     "name": "stdout",
     "output_type": "stream",
     "text": [
      "Upper text: A WHIRLWIND TOUR OF PYTHON\n",
      "Key lettera of 'o': 3\n",
      "First position of 'p': 20\n"
     ]
    }
   ],
   "source": [
    "promo_text = 'a whirlwind tour of python'\n",
    "promo_text\n",
    "# Convert the Text to Uppercase\n",
    "upper_text = promo_text.upper()\n",
    "print(\"Upper text:\", upper_text)\n",
    "\n",
    "# Count Key Letters\n",
    "key_lettera = promo_text.count('o')\n",
    "print(\"Key lettera of 'o':\", key_lettera)\n",
    "\n",
    "# Analyze Text Content\n",
    "find_letter_p = promo_text.find('p')\n",
    "print(\"First position of 'p':\", find_letter_p)"
   ]
  },
  {
   "cell_type": "markdown",
   "metadata": {
    "id": "3VKo4KqC9b2n"
   },
   "source": [
    "# Question 5\n",
    "\n",
    "**Complex Data Retrieval from a Business Data Structure**\n",
    "\n",
    "You are a data analyst at a retail company analyzing customer feedback and product details stored in a nested data structure. This data contains various information, such as customer reviews, product ratings, and detailed attributes.\n",
    "\n",
    "Given the nested data structure below, determine the indexing steps needed to retrieve the word 'satisfied', which represents a customer's sentiment."
   ]
  },
  {
   "cell_type": "code",
   "execution_count": 25,
   "metadata": {
    "id": "MbiK1dKkHfyp"
   },
   "outputs": [
    {
     "data": {
      "text/plain": [
       "[['Product A',\n",
       "  {'reviews': [{'rating': 5, 'comment': 'Excellent', 'sentiment': 'positive'},\n",
       "    {'rating': 3, 'comment': 'Average', 'sentiment': 'satisfied'}]},\n",
       "  299.99],\n",
       " ['Product B',\n",
       "  {'reviews': [{'rating': 2, 'comment': 'Bad', 'sentiment': 'negative'}]},\n",
       "  399.99]]"
      ]
     },
     "execution_count": 25,
     "metadata": {},
     "output_type": "execute_result"
    }
   ],
   "source": [
    "data_structure = [\n",
    "    ['Product A',\n",
    "     {'reviews': [\n",
    "         {'rating': 5, 'comment': 'Excellent', 'sentiment': 'positive'},\n",
    "         {'rating': 3, 'comment': 'Average', 'sentiment': 'satisfied'}\n",
    "     ]},\n",
    "     299.99\n",
    "    ],\n",
    "    ['Product B',\n",
    "     {'reviews': [\n",
    "         {'rating': 2, 'comment': 'Bad', 'sentiment': 'negative'},\n",
    "     ]},\n",
    "     399.99\n",
    "    ]\n",
    "]\n",
    "data_structure"
   ]
  },
  {
   "cell_type": "markdown",
   "metadata": {
    "id": "7dPh9Cd_HgYK"
   },
   "source": [
    "**Task:** Provide the exact indexing sequence required to access the word 'satisfied' from within the data_structure.\n",
    "\n",
    "Consider this exercise as navigating through nested data to extract specific customer sentiments, a task you might encounter when working with un- or semi-structured data."
   ]
  },
  {
   "cell_type": "code",
   "execution_count": 38,
   "metadata": {
    "executionInfo": {
     "elapsed": 202,
     "status": "ok",
     "timestamp": 1725507369824,
     "user": {
      "displayName": "Mohammad Soltanieh Ha",
      "userId": "12308918870841825745"
     },
     "user_tz": 240
    },
    "id": "ltr4AnhM9b2r"
   },
   "outputs": [
    {
     "data": {
      "text/plain": [
       "'satisfied'"
      ]
     },
     "execution_count": 38,
     "metadata": {},
     "output_type": "execute_result"
    }
   ],
   "source": [
    "data_structure[0][1]['reviews'][1]['sentiment']\n",
    "\n"
   ]
  },
  {
   "cell_type": "markdown",
   "metadata": {
    "id": "xkxmCuKC9b2t"
   },
   "source": [
    "# Question 6\n",
    "\n",
    "**Data Filtering for Financial Analysis**\n",
    "\n",
    "You are a financial analyst tasked with analyzing transaction data. Your team has collected a list of transaction amounts (both positive and negative), and you need to perform some data filtering and transformation to prepare the data for further analysis.\n",
    "\n",
    "Given a list of transaction amounts, L1, perform the following tasks:\n",
    "\n",
    "Create a Filtered List: Using a list comprehension, create a new list L2 that contains the absolute values of the even transaction amounts that are greater than 50. This will help isolate significant transactions for further analysis.\n",
    "\n",
    "Calculate the Total of Significant Transactions: Calculate the sum of the elements in L2 to determine the total value of these significant transactions.\n",
    "\n",
    "Hint: Use sum(L2) to get the sum of all the elements in L2.\n",
    "\n",
    "Provide the filtered list L2 and the sum of its elements."
   ]
  },
  {
   "cell_type": "code",
   "execution_count": 54,
   "metadata": {
    "id": "Bf9v6gex9b2u"
   },
   "outputs": [],
   "source": [
    "L1 = [34, -78, 65, 102, -53, 50, -92, 61, 150, -45, 60, -88]"
   ]
  },
  {
   "cell_type": "code",
   "execution_count": null,
   "metadata": {
    "executionInfo": {
     "elapsed": 965,
     "status": "ok",
     "timestamp": 1725507372518,
     "user": {
      "displayName": "Mohammad Soltanieh Ha",
      "userId": "12308918870841825745"
     },
     "user_tz": 240
    },
    "id": "M6nhacwT9b2w"
   },
   "outputs": [
    {
     "name": "stdout",
     "output_type": "stream",
     "text": [
      "Filtered List (L2) = [78, 102, 92, 150, 60, 88]\n",
      "Sum of L2 = 570\n"
     ]
    }
   ],
   "source": [
    "\n",
    "L2 = [abs(x) for x in L1 if x % 2 == 0 and abs(x) > 50]\n",
    "L2\n",
    "total = sum(L2)\n",
    "total\n",
    "print(\"Filtered List (L2) =\", L2)\n",
    "print(\"Sum of L2 =\",total)"
   ]
  },
  {
   "cell_type": "markdown",
   "metadata": {
    "id": "mA7_C2bT9b2z"
   },
   "source": [
    "# Question 7\n",
    "\n",
    "**Data Transformation for Quality Control Analysis**\n",
    "\n",
    "You are working as a quality control analyst at a manufacturing company. Your task is to analyze sensor data to identify potential anomalies in the production line. The sensor data is represented as a list of integers, where each integer corresponds to a specific measurement.\n",
    "\n",
    "Your goal is to write a function that filters out and analyzes specific measurements that are multiples of 4 and exceed a threshold value.\n",
    "\n",
    "Function Definition: Write a function named mult4_squares_filter() that receives a list of integers and returns a new list containing the squares of the numbers that are multiples of 4 and greater than 10. This function will help identify significant measurements that require attention.\n",
    "\n",
    "Analyze Sensor Data: Given the list L3 below, use your function to determine how many measurements meet the criteria.\n",
    "\n",
    "Hint: Use len(mult4_squares_filter(L3)) to get the number of elements that satisfy the conditions.\n",
    "\n",
    "**Task:** Provide the number of elements in the outcome of mult4_squares_filter(L3).\n"
   ]
  },
  {
   "cell_type": "code",
   "execution_count": 50,
   "metadata": {
    "id": "RkQKcRWv9b2z"
   },
   "outputs": [],
   "source": [
    "L3 = [5, 12, 7, 16, 24, 9, 8, 40, 15, 64, 100, 18, 50, 4, 80]"
   ]
  },
  {
   "cell_type": "code",
   "execution_count": 53,
   "metadata": {
    "executionInfo": {
     "elapsed": 180,
     "status": "ok",
     "timestamp": 1725507374980,
     "user": {
      "displayName": "Mohammad Soltanieh Ha",
      "userId": "12308918870841825745"
     },
     "user_tz": 240
    },
    "id": "OLSlhDsf9b23"
   },
   "outputs": [
    {
     "data": {
      "text/plain": [
       "7"
      ]
     },
     "execution_count": 53,
     "metadata": {},
     "output_type": "execute_result"
    }
   ],
   "source": [
    "L3\n",
    "def mult4_squares_filter(numbers):\n",
    "    return [x**2 for x in numbers if x % 4 == 0 and x > 10]\n",
    "\n",
    "mult4_squares_filter(L3)\n",
    "\n",
    "len(mult4_squares_filter(L3))"
   ]
  }
 ],
 "metadata": {
  "colab": {
   "provenance": []
  },
  "kernelspec": {
   "display_name": "base",
   "language": "python",
   "name": "python3"
  },
  "language_info": {
   "codemirror_mode": {
    "name": "ipython",
    "version": 3
   },
   "file_extension": ".py",
   "mimetype": "text/x-python",
   "name": "python",
   "nbconvert_exporter": "python",
   "pygments_lexer": "ipython3",
   "version": "3.11.5"
  }
 },
 "nbformat": 4,
 "nbformat_minor": 0
}

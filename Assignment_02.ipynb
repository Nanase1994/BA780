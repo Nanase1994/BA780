{
  "cells": [
    {
      "cell_type": "markdown",
      "metadata": {
        "id": "JoeEHEJwVDG0"
      },
      "source": [
        "# Assignment 2"
      ]
    },
    {
      "cell_type": "markdown",
      "metadata": {
        "id": "q1cTiJ0CVDG4"
      },
      "source": [
        "**Generative AI rule:** For this assignment, you are allowed to use generative AI tools for assistance, but the code must be your original work—any code that is not your own will be considered cheating.\n",
        "\n",
        "## Data\n",
        "\n",
        "This is a historical dataset on the modern Olympic Games, including all the Games from Athens 1896 to Rio 2016. The data was taken from Kaggle. The `athlete_events` Dataset contains $271,116$ rows and $15$ columns.\n",
        "\n",
        "**Important note**: Athletes with the same name might not be the same individuals. To accurately distinguish them, make sure to use their unique IDs.\n",
        "\n",
        "**ATTRIBUTES:**\n",
        "\n",
        "**athlete_events.csv**\n",
        "\n",
        "| Column Name | Data Type | Description/Notes |\n",
        "|:----:|:----:|:----|\n",
        "| ID |  integer | Unique number for each athlete |\n",
        "| Name | string | Athlete’s name |\n",
        "| Sex | string | M or F |\n",
        "| Age | integer |  |\n",
        "| Height | integer | In centimeters |\n",
        "| Weight | integer | In kilograms |\n",
        "| Team | string | Team name |\n",
        "| NOC | string | National Olympic Committee, 3 letter code (Matches with `NOC` from noc_regions.csv) |\n",
        "| Games | string | Year and season |\n",
        "| Year | integer |  |\n",
        "| Season | string | Summer or Winter |\n",
        "| City | string | Host city |\n",
        "| Sport | string |  |\n",
        "| Event | string |  |\n",
        "| Medal | string | Gold, Silver, Bronze, or NA |\n",
        "\n",
        "**Source:** Griffin, R, H (2018) 120 years of Olympic history: athletes and results, athlete_events, Found at: https://www.kaggle.com/heesoo37/120-years-of-olympic-history-athletes-and-results#athlete_events.csv"
      ]
    },
    {
      "cell_type": "markdown",
      "metadata": {
        "id": "R5zo_vISVDG5"
      },
      "source": [
        "Download athlete_events.csv from the link above and load it into a DataFrame called `athlete_events`:"
      ]
    },
    {
      "cell_type": "code",
      "execution_count": 2,
      "metadata": {
        "colab": {
          "base_uri": "https://localhost:8080/",
          "height": 563
        },
        "id": "azkCFhd2VDG5",
        "outputId": "cfdd5f84-6208-4a65-a16c-8f89feecf859"
      },
      "outputs": [
        {
          "name": "stdout",
          "output_type": "stream",
          "text": [
            "   ID                      Name Sex   Age  Height  Weight            Team  \\\n",
            "0   1                 A Dijiang   M  24.0   180.0    80.0           China   \n",
            "1   2                  A Lamusi   M  23.0   170.0    60.0           China   \n",
            "2   3       Gunnar Nielsen Aaby   M  24.0     NaN     NaN         Denmark   \n",
            "3   4      Edgar Lindenau Aabye   M  34.0     NaN     NaN  Denmark/Sweden   \n",
            "4   5  Christine Jacoba Aaftink   F  21.0   185.0    82.0     Netherlands   \n",
            "\n",
            "   NOC        Games  Year  Season       City          Sport  \\\n",
            "0  CHN  1992 Summer  1992  Summer  Barcelona     Basketball   \n",
            "1  CHN  2012 Summer  2012  Summer     London           Judo   \n",
            "2  DEN  1920 Summer  1920  Summer  Antwerpen       Football   \n",
            "3  DEN  1900 Summer  1900  Summer      Paris     Tug-Of-War   \n",
            "4  NED  1988 Winter  1988  Winter    Calgary  Speed Skating   \n",
            "\n",
            "                              Event Medal  \n",
            "0       Basketball Men's Basketball   NaN  \n",
            "1      Judo Men's Extra-Lightweight   NaN  \n",
            "2           Football Men's Football   NaN  \n",
            "3       Tug-Of-War Men's Tug-Of-War  Gold  \n",
            "4  Speed Skating Women's 500 metres   NaN  \n"
          ]
        }
      ],
      "source": [
        "import pandas as pd\n",
        "\n",
        "\n",
        "athlete_events = pd.read_csv(\"/Users/gao20/Desktop/BA780 B1 Introduction to Data Analytics (Fall 25) /athlete_events.csv\")\n",
        "\n",
        "print(athlete_events.head())"
      ]
    },
    {
      "cell_type": "code",
      "execution_count": 8,
      "metadata": {},
      "outputs": [
        {
          "data": {
            "text/html": [
              "<div>\n",
              "<style scoped>\n",
              "    .dataframe tbody tr th:only-of-type {\n",
              "        vertical-align: middle;\n",
              "    }\n",
              "\n",
              "    .dataframe tbody tr th {\n",
              "        vertical-align: top;\n",
              "    }\n",
              "\n",
              "    .dataframe thead th {\n",
              "        text-align: right;\n",
              "    }\n",
              "</style>\n",
              "<table border=\"1\" class=\"dataframe\">\n",
              "  <thead>\n",
              "    <tr style=\"text-align: right;\">\n",
              "      <th></th>\n",
              "      <th>ID</th>\n",
              "      <th>Name</th>\n",
              "      <th>Sex</th>\n",
              "      <th>Age</th>\n",
              "      <th>Height</th>\n",
              "      <th>Weight</th>\n",
              "      <th>Team</th>\n",
              "      <th>NOC</th>\n",
              "      <th>Games</th>\n",
              "      <th>Year</th>\n",
              "      <th>Season</th>\n",
              "      <th>City</th>\n",
              "      <th>Sport</th>\n",
              "      <th>Event</th>\n",
              "      <th>Medal</th>\n",
              "    </tr>\n",
              "  </thead>\n",
              "  <tbody>\n",
              "    <tr>\n",
              "      <th>271111</th>\n",
              "      <td>135569</td>\n",
              "      <td>Andrzej ya</td>\n",
              "      <td>M</td>\n",
              "      <td>29.0</td>\n",
              "      <td>179.0</td>\n",
              "      <td>89.0</td>\n",
              "      <td>Poland-1</td>\n",
              "      <td>POL</td>\n",
              "      <td>1976 Winter</td>\n",
              "      <td>1976</td>\n",
              "      <td>Winter</td>\n",
              "      <td>Innsbruck</td>\n",
              "      <td>Luge</td>\n",
              "      <td>Luge Mixed (Men)'s Doubles</td>\n",
              "      <td>NaN</td>\n",
              "    </tr>\n",
              "    <tr>\n",
              "      <th>271112</th>\n",
              "      <td>135570</td>\n",
              "      <td>Piotr ya</td>\n",
              "      <td>M</td>\n",
              "      <td>27.0</td>\n",
              "      <td>176.0</td>\n",
              "      <td>59.0</td>\n",
              "      <td>Poland</td>\n",
              "      <td>POL</td>\n",
              "      <td>2014 Winter</td>\n",
              "      <td>2014</td>\n",
              "      <td>Winter</td>\n",
              "      <td>Sochi</td>\n",
              "      <td>Ski Jumping</td>\n",
              "      <td>Ski Jumping Men's Large Hill, Individual</td>\n",
              "      <td>NaN</td>\n",
              "    </tr>\n",
              "    <tr>\n",
              "      <th>271113</th>\n",
              "      <td>135570</td>\n",
              "      <td>Piotr ya</td>\n",
              "      <td>M</td>\n",
              "      <td>27.0</td>\n",
              "      <td>176.0</td>\n",
              "      <td>59.0</td>\n",
              "      <td>Poland</td>\n",
              "      <td>POL</td>\n",
              "      <td>2014 Winter</td>\n",
              "      <td>2014</td>\n",
              "      <td>Winter</td>\n",
              "      <td>Sochi</td>\n",
              "      <td>Ski Jumping</td>\n",
              "      <td>Ski Jumping Men's Large Hill, Team</td>\n",
              "      <td>NaN</td>\n",
              "    </tr>\n",
              "    <tr>\n",
              "      <th>271114</th>\n",
              "      <td>135571</td>\n",
              "      <td>Tomasz Ireneusz ya</td>\n",
              "      <td>M</td>\n",
              "      <td>30.0</td>\n",
              "      <td>185.0</td>\n",
              "      <td>96.0</td>\n",
              "      <td>Poland</td>\n",
              "      <td>POL</td>\n",
              "      <td>1998 Winter</td>\n",
              "      <td>1998</td>\n",
              "      <td>Winter</td>\n",
              "      <td>Nagano</td>\n",
              "      <td>Bobsleigh</td>\n",
              "      <td>Bobsleigh Men's Four</td>\n",
              "      <td>NaN</td>\n",
              "    </tr>\n",
              "    <tr>\n",
              "      <th>271115</th>\n",
              "      <td>135571</td>\n",
              "      <td>Tomasz Ireneusz ya</td>\n",
              "      <td>M</td>\n",
              "      <td>34.0</td>\n",
              "      <td>185.0</td>\n",
              "      <td>96.0</td>\n",
              "      <td>Poland</td>\n",
              "      <td>POL</td>\n",
              "      <td>2002 Winter</td>\n",
              "      <td>2002</td>\n",
              "      <td>Winter</td>\n",
              "      <td>Salt Lake City</td>\n",
              "      <td>Bobsleigh</td>\n",
              "      <td>Bobsleigh Men's Four</td>\n",
              "      <td>NaN</td>\n",
              "    </tr>\n",
              "  </tbody>\n",
              "</table>\n",
              "</div>"
            ],
            "text/plain": [
              "            ID                Name Sex   Age  Height  Weight      Team  NOC  \\\n",
              "271111  135569          Andrzej ya   M  29.0   179.0    89.0  Poland-1  POL   \n",
              "271112  135570            Piotr ya   M  27.0   176.0    59.0    Poland  POL   \n",
              "271113  135570            Piotr ya   M  27.0   176.0    59.0    Poland  POL   \n",
              "271114  135571  Tomasz Ireneusz ya   M  30.0   185.0    96.0    Poland  POL   \n",
              "271115  135571  Tomasz Ireneusz ya   M  34.0   185.0    96.0    Poland  POL   \n",
              "\n",
              "              Games  Year  Season            City        Sport  \\\n",
              "271111  1976 Winter  1976  Winter       Innsbruck         Luge   \n",
              "271112  2014 Winter  2014  Winter           Sochi  Ski Jumping   \n",
              "271113  2014 Winter  2014  Winter           Sochi  Ski Jumping   \n",
              "271114  1998 Winter  1998  Winter          Nagano    Bobsleigh   \n",
              "271115  2002 Winter  2002  Winter  Salt Lake City    Bobsleigh   \n",
              "\n",
              "                                           Event Medal  \n",
              "271111                Luge Mixed (Men)'s Doubles   NaN  \n",
              "271112  Ski Jumping Men's Large Hill, Individual   NaN  \n",
              "271113        Ski Jumping Men's Large Hill, Team   NaN  \n",
              "271114                      Bobsleigh Men's Four   NaN  \n",
              "271115                      Bobsleigh Men's Four   NaN  "
            ]
          },
          "execution_count": 8,
          "metadata": {},
          "output_type": "execute_result"
        }
      ],
      "source": [
        "athlete_events.head()\n",
        "\n",
        "athlete_events.tail()"
      ]
    },
    {
      "cell_type": "markdown",
      "metadata": {
        "id": "8IQhitmAVDG5"
      },
      "source": [
        "Use `info()` method on this DataFrame to get a sense of the data:"
      ]
    },
    {
      "cell_type": "code",
      "execution_count": 9,
      "metadata": {
        "colab": {
          "base_uri": "https://localhost:8080/"
        },
        "id": "h-aNF7hJVDG6",
        "outputId": "1c28dd09-d102-4dd6-ee53-a7e780fe9c0c"
      },
      "outputs": [
        {
          "name": "stdout",
          "output_type": "stream",
          "text": [
            "<class 'pandas.core.frame.DataFrame'>\n",
            "RangeIndex: 271116 entries, 0 to 271115\n",
            "Data columns (total 15 columns):\n",
            " #   Column  Non-Null Count   Dtype  \n",
            "---  ------  --------------   -----  \n",
            " 0   ID      271116 non-null  int64  \n",
            " 1   Name    271116 non-null  object \n",
            " 2   Sex     271116 non-null  object \n",
            " 3   Age     261642 non-null  float64\n",
            " 4   Height  210945 non-null  float64\n",
            " 5   Weight  208241 non-null  float64\n",
            " 6   Team    271116 non-null  object \n",
            " 7   NOC     271116 non-null  object \n",
            " 8   Games   271116 non-null  object \n",
            " 9   Year    271116 non-null  int64  \n",
            " 10  Season  271116 non-null  object \n",
            " 11  City    271116 non-null  object \n",
            " 12  Sport   271116 non-null  object \n",
            " 13  Event   271116 non-null  object \n",
            " 14  Medal   39783 non-null   object \n",
            "dtypes: float64(3), int64(2), object(10)\n",
            "memory usage: 31.0+ MB\n"
          ]
        }
      ],
      "source": [
        "athlete_events.info()"
      ]
    },
    {
      "cell_type": "markdown",
      "metadata": {
        "id": "etJYnbkwVDG6"
      },
      "source": [
        "## Question 1\n",
        "\n",
        "Identify athletes who meet all of the following criteria:\n",
        "\n",
        "- They are male (Sex is \"M\").\n",
        "- Their age is below 25.\n",
        "- They have participated in the Summer Olympics.\n",
        "- They have won a medal.\n",
        "\n",
        "Once you have filtered the athletes based on the above criteria, calculate the average height and weight of these athletes."
      ]
    },
    {
      "cell_type": "code",
      "execution_count": null,
      "metadata": {
        "id": "3NGbSoxGVDG7"
      },
      "outputs": [],
      "source": [
        "# Your code goes here"
      ]
    },
    {
      "cell_type": "markdown",
      "metadata": {
        "id": "iEhLEXLZVDG7"
      },
      "source": [
        "## Question 2\n",
        "\n",
        "Using the dataset, group the athletes by \"Team\" and calculate the following for each team:\n",
        "\n",
        "- Which team has the maximum number of atheletes?\n",
        "- Which team has competed in the highest number of distinct sports?\n"
      ]
    },
    {
      "cell_type": "code",
      "execution_count": null,
      "metadata": {
        "id": "muosk0LbVDG8"
      },
      "outputs": [],
      "source": [
        "# Your code goes here"
      ]
    },
    {
      "cell_type": "markdown",
      "metadata": {
        "id": "kGN2cpdHVDG8"
      },
      "source": [
        "## Question 3\n",
        "\n",
        "**True or False?**\n",
        "\n",
        "> The average height of athletes who won a medal in Speed Skating is greater than the average height of athletes who won a medal in Basketball.\n",
        "\n",
        "Write code to determine if this statement is True or False."
      ]
    },
    {
      "cell_type": "code",
      "execution_count": null,
      "metadata": {
        "id": "zLbAGH-ZVDG8"
      },
      "outputs": [],
      "source": [
        "# Your code goes here"
      ]
    },
    {
      "cell_type": "markdown",
      "metadata": {
        "id": "SDhudi_MVDG9"
      },
      "source": [
        "## Question 4\n",
        "\n",
        "Identify athletes who have participated in multiple Olympic events (more than one unique event). For these athletes:\n",
        "\n",
        "- Calculate the sum of the total number of events they participated in altogether.\n",
        "- Identify the athletes who have won at least two medals (any type of medal).  How many such atheletes are there?"
      ]
    },
    {
      "cell_type": "code",
      "execution_count": null,
      "metadata": {
        "id": "GTXjS7ZGVDG9"
      },
      "outputs": [],
      "source": [
        "# Your code goes here"
      ]
    },
    {
      "cell_type": "markdown",
      "metadata": {
        "id": "nTqj2HYXVDG9"
      },
      "source": [
        "## Question 5\n",
        "\n",
        "Identify all athletes who have won at least one medal and have participated in two or more different sports. For these athletes:\n",
        "\n",
        "- Find the total number of different sports each of them participated in. Which athlete has the highest number of sports? And how many?\n",
        "- Calculate the average number of medals won by these athletes. Which athlete has the maximum number of medals? And how many?"
      ]
    },
    {
      "cell_type": "code",
      "execution_count": null,
      "metadata": {
        "id": "ZsoZoa2nVDG-"
      },
      "outputs": [],
      "source": [
        "# Your code goes here"
      ]
    },
    {
      "cell_type": "markdown",
      "metadata": {
        "id": "b6JJSfHiVDG-"
      },
      "source": [
        "## Question 6\n",
        "\n",
        "Identify the top 3 most common sports in which athletes have won a Gold medal. List the sports in descending order of frequency."
      ]
    },
    {
      "cell_type": "code",
      "execution_count": null,
      "metadata": {
        "id": "QJB0tpFOVDG-"
      },
      "outputs": [],
      "source": [
        "# Your code goes here"
      ]
    },
    {
      "cell_type": "markdown",
      "metadata": {
        "id": "ZRcRJsx8YDef"
      },
      "source": [
        "## Question 7\n",
        "\n",
        "As part of a sponsorship deal, a company wants to endorse athletes who have a consistent performance in the Olympics. The company defines consistency for athletes who have participated more than one year and those who have won at least one medal in every year.\n",
        "\n",
        "How many such athletes exist?\n",
        "\n"
      ]
    },
    {
      "cell_type": "code",
      "execution_count": null,
      "metadata": {
        "id": "k76RQNAfZUkt"
      },
      "outputs": [],
      "source": [
        "# Your code goes here"
      ]
    },
    {
      "cell_type": "markdown",
      "metadata": {
        "id": "b3MTXfoykQ4E"
      },
      "source": [
        "## Question 8\n",
        "\n",
        "A sports analytics firm wants to identify athletes who have shown versatility by competing in both individual and team sports. The firm is particularly interested in those who have won at least one medal in both types of events.\n",
        "\n",
        "Provide the total number of athletes who have won medals in both individual and team sports.\n",
        "\n",
        "Note: The following is a list of all team sports to reference for this question:\n",
        "\n",
        "```\n",
        "['Basketball', 'Football', 'Tug-Of-War', 'Ice Hockey', 'Handball', 'Water Polo', 'Hockey', 'Rowing', 'Bobsleigh', 'Sailing', 'Baseball', 'Softball',\n",
        "'Rugby Sevens', 'Volleyball', 'Beach Volleyball', 'Synchronized Swimming' 'Curling', 'Lacrosse', 'Polo', 'Cricket', 'Military Ski Patrol', 'Croquet']\n",
        "```"
      ]
    },
    {
      "cell_type": "code",
      "execution_count": null,
      "metadata": {
        "id": "3hlZ-1pkYNyH"
      },
      "outputs": [],
      "source": [
        "# Your code goes here"
      ]
    },
    {
      "cell_type": "markdown",
      "metadata": {
        "id": "IJ19FSsv2P5X"
      },
      "source": [
        "## Question 9\n",
        "\n",
        "A sports health association is analyzing athletes' BMI to assess fitness, defining \"fit\" as those in the Normal weight category.\n",
        "\n",
        "1. Create a **BMI** column using **Height** and **Weight**:  \n",
        "$BMI=\\frac{(Weight_{kg})}{Height_m^2}$\n",
        "\n",
        "Fill missing Height and Weight values with average within the same Sex group and round BMI to 1 decimal place.\n",
        "\n",
        "2. Count the number of \"fit\" athletes in the BMI range of 20-28 (inclusive).\n",
        "\n",
        "Note: some athletes might have different weights and heights over the years. Take an average over all their measurements."
      ]
    },
    {
      "cell_type": "code",
      "execution_count": null,
      "metadata": {
        "id": "BGHU4E8v2qTK"
      },
      "outputs": [],
      "source": [
        "# Your code goes here"
      ]
    }
  ],
  "metadata": {
    "colab": {
      "provenance": []
    },
    "kernelspec": {
      "display_name": "base",
      "language": "python",
      "name": "python3"
    },
    "language_info": {
      "codemirror_mode": {
        "name": "ipython",
        "version": 3
      },
      "file_extension": ".py",
      "mimetype": "text/x-python",
      "name": "python",
      "nbconvert_exporter": "python",
      "pygments_lexer": "ipython3",
      "version": "3.11.7"
    }
  },
  "nbformat": 4,
  "nbformat_minor": 0
}
